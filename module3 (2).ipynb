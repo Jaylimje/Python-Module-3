{
 "cells": [
  {
   "cell_type": "markdown",
   "id": "b33a1a2d-96bb-4f2b-aa30-5883b0d69dec",
   "metadata": {},
   "source": [
    "# 24. Write a Python program to convert a list to a tuple. "
   ]
  },
  {
   "cell_type": "code",
   "execution_count": 1,
   "id": "08a6a215-687b-41ba-86cb-480f5ddb5478",
   "metadata": {},
   "outputs": [
    {
     "name": "stdout",
     "output_type": "stream",
     "text": [
      "(1, 2, 3, 4)\n"
     ]
    }
   ],
   "source": [
    "def convert(list):\n",
    "    return tuple(list)\n",
    " \n",
    "list = [1, 2, 3, 4]\n",
    "print(convert(list))"
   ]
  },
  {
   "cell_type": "markdown",
   "id": "7f89434e-038f-4f71-b1e5-5366817217ee",
   "metadata": {},
   "source": [
    "# 25. Write a Python program to reverse a tuple. "
   ]
  },
  {
   "cell_type": "code",
   "execution_count": 2,
   "id": "903566c7-f389-45c2-b208-a9c8166fd890",
   "metadata": {},
   "outputs": [
    {
     "name": "stdout",
     "output_type": "stream",
     "text": [
      "The original tuple is:  (1, 2, 'Python', 'Java', 23.4, 77, 10)\n",
      "The reversed tuple is:  (10, 77, 23.4, 'Java', 'Python', 2, 1)\n"
     ]
    }
   ],
   "source": [
    "tuple_1 = (1, 2, 'Python', 'Java', 23.4, 77, 10)    \n",
    "print(\"The original tuple is: \", tuple_1)  \n",
    "tuple_2 = tuple(reversed(tuple_1))  \n",
    "print(\"The reversed tuple is: \", tuple_2)  "
   ]
  },
  {
   "cell_type": "markdown",
   "id": "99661337-c293-4a7f-87bf-97303b990f64",
   "metadata": {},
   "source": [
    "# 26. Write a Python program to replace last value of tuples in a list. "
   ]
  },
  {
   "cell_type": "code",
   "execution_count": 3,
   "id": "641fb9b8-2f70-41c5-9f62-594ef6f04f14",
   "metadata": {},
   "outputs": [
    {
     "name": "stdout",
     "output_type": "stream",
     "text": [
      "[(11, 12, 13), (21, 22, 23), (31, 32, 33)]\n",
      "[(11, 12, 66), (21, 22, 66), (31, 32, 66)]\n"
     ]
    }
   ],
   "source": [
    "list1 = [(11, 12, 13), (21, 22, 23), (31, 32, 33)]\n",
    "print(list1)\n",
    "print([t[:-1] + (66, ) for t in list1])"
   ]
  },
  {
   "cell_type": "markdown",
   "id": "2bd1a693-e6ac-4a9f-a05f-1782b485865f",
   "metadata": {},
   "source": [
    "# 27. Write a Python program to find the repeated items of a tuple."
   ]
  },
  {
   "cell_type": "code",
   "execution_count": 4,
   "id": "c401e7de-c2ec-43d1-9c85-bb342db63f88",
   "metadata": {},
   "outputs": [
    {
     "name": "stdout",
     "output_type": "stream",
     "text": [
      "(2, 4, 5, 6, 2, 3, 4, 4, 7)\n"
     ]
    }
   ],
   "source": [
    "tuple1 = (2, 4, 5, 6, 2, 3, 4, 4, 7)\n",
    "print(tuple1)"
   ]
  },
  {
   "cell_type": "code",
   "execution_count": 5,
   "id": "ed94c044-e004-434f-b1eb-81e1da1361b5",
   "metadata": {},
   "outputs": [
    {
     "name": "stdout",
     "output_type": "stream",
     "text": [
      "3\n"
     ]
    }
   ],
   "source": [
    "count = tuple1.count(4)\n",
    "print(count)"
   ]
  },
  {
   "cell_type": "markdown",
   "id": "96d59ffd-28bd-4f0e-b316-53e20e77974d",
   "metadata": {},
   "source": [
    "# 28. Write a Python program to remove an empty tuple(s) from a list of tuples. "
   ]
  },
  {
   "cell_type": "code",
   "execution_count": 6,
   "id": "19a53701-8621-4150-8d6a-5f6ebd46e2f8",
   "metadata": {},
   "outputs": [
    {
     "name": "stdout",
     "output_type": "stream",
     "text": [
      "[('ram', '15', '8'), ('laxman', 'sita'), ('krishna', 'akbar', '45'), ('', '')]\n"
     ]
    }
   ],
   "source": [
    "def Remove(tuples):\n",
    "    for i in tuples:\n",
    "        if(len(i) == 0):\n",
    "            tuples.remove(i)\n",
    "    return tuples\n",
    " \n",
    "tuples = [(), ('ram', '15', '8'), (), ('laxman', 'sita'),\n",
    "          ('krishna', 'akbar', '45'), ('', ''), ()]\n",
    "print(Remove(tuples))"
   ]
  },
  {
   "cell_type": "code",
   "execution_count": null,
   "id": "0b9eea45-70ad-48f4-9a46-f2c981557c20",
   "metadata": {},
   "outputs": [],
   "source": []
  }
 ],
 "metadata": {
  "kernelspec": {
   "display_name": "Python 3 (ipykernel)",
   "language": "python",
   "name": "python3"
  },
  "language_info": {
   "codemirror_mode": {
    "name": "ipython",
    "version": 3
   },
   "file_extension": ".py",
   "mimetype": "text/x-python",
   "name": "python",
   "nbconvert_exporter": "python",
   "pygments_lexer": "ipython3",
   "version": "3.11.7"
  }
 },
 "nbformat": 4,
 "nbformat_minor": 5
}
