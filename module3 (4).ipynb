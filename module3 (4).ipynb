{
 "cells": [
  {
   "cell_type": "markdown",
   "id": "5441c749-0c25-43e5-ac43-aca06a88d499",
   "metadata": {},
   "source": [
    "# 30.  Write a Python program to convert a list of tuples into a dictionary. "
   ]
  },
  {
   "cell_type": "code",
   "execution_count": 90,
   "id": "6b650daf-bad1-4e77-96d7-dfbc00550c08",
   "metadata": {},
   "outputs": [
    {
     "name": "stdout",
     "output_type": "stream",
     "text": [
      "{'kishor': 3101, 'jay': 7625, 'nikhil': 5740, 'yash': 3101, 'paresh': 4885}\n"
     ]
    }
   ],
   "source": [
    "list = [('kishor', 3101), ('jay', 7625), ('nikhil', 5740), ('yash', 3101), ('paresh', 4885)]\n",
    "\n",
    "print(dict(list))\n"
   ]
  },
  {
   "cell_type": "markdown",
   "id": "51c5aba3-5bb6-446d-af94-539c0a8195b8",
   "metadata": {},
   "source": [
    "# 31. How will you create a dictionary using tuples in python? "
   ]
  },
  {
   "cell_type": "markdown",
   "id": "42fa62ce-6a10-4b6e-8e2a-641395428c35",
   "metadata": {},
   "source": [
    "we will pass keys as tuples inside the dictionary."
   ]
  },
  {
   "cell_type": "raw",
   "id": "9be4b2f7-8a60-4f82-9ee1-3051e16659a2",
   "metadata": {},
   "source": [
    "Dictionary of tuples with tuples as keys"
   ]
  },
  {
   "cell_type": "markdown",
   "id": "2f4db405-775c-4722-bfe4-8ba4c1a178f0",
   "metadata": {},
   "source": [
    "For Example,"
   ]
  },
  {
   "cell_type": "code",
   "execution_count": 91,
   "id": "a7ce6e0d-b527-4e62-8383-5200f79e50b3",
   "metadata": {},
   "outputs": [
    {
     "data": {
      "text/plain": [
       "{('chapathi', 'roti'): 'Bobby', ('Paraota', 'Idly', 'Dosa'): 'ojaswi'}"
      ]
     },
     "execution_count": 91,
     "metadata": {},
     "output_type": "execute_result"
    }
   ],
   "source": [
    "data = {(\"chapathi\", \"roti\"): 'Bobby',  \n",
    "        (\"Paraota\", \"Idly\", \"Dosa\"): 'ojaswi'} \n",
    "data"
   ]
  },
  {
   "cell_type": "raw",
   "id": "46f5c2ee-27a0-47d6-8cc6-897240f5a3c1",
   "metadata": {},
   "source": [
    "Dictionary of tuples with tuples as values"
   ]
  },
  {
   "cell_type": "markdown",
   "id": "e0cb5c57-e088-4d03-a421-426ca3ef5a28",
   "metadata": {},
   "source": [
    "For Example,"
   ]
  },
  {
   "cell_type": "code",
   "execution_count": 92,
   "id": "d644c863-75a0-4774-b35a-317a36afd576",
   "metadata": {},
   "outputs": [
    {
     "data": {
      "text/plain": [
       "{'Bobby': ('chapathi', 'roti'), 'ojaswi': ('Paraota', 'Idly', 'Dosa')}"
      ]
     },
     "execution_count": 92,
     "metadata": {},
     "output_type": "execute_result"
    }
   ],
   "source": [
    "data = {'Bobby': (\"chapathi\", \"roti\"),  \n",
    "        'ojaswi': (\"Paraota\", \"Idly\", \"Dosa\")} \n",
    "data "
   ]
  },
  {
   "cell_type": "markdown",
   "id": "553df876-58d1-4d77-b10a-0ab49c2a869b",
   "metadata": {},
   "source": [
    "# 32. Write a Python script to sort (ascending and descending) a dictionary by value."
   ]
  },
  {
   "cell_type": "code",
   "execution_count": 93,
   "id": "33abe266-625c-4991-9909-d2fe6c7d8634",
   "metadata": {},
   "outputs": [
    {
     "name": "stdout",
     "output_type": "stream",
     "text": [
      "ascending order:  {'jay': 11, 'nikhil': 12, 'yash': 456, 'chirag': 564, 'nirav': 786, 'ayaan': 5456}\n",
      "descending order:  {'ayaan': 5456, 'nirav': 786, 'chirag': 564, 'yash': 456, 'nikhil': 12, 'jay': 11}\n"
     ]
    }
   ],
   "source": [
    "dict1 = {\n",
    "    'jay': 11,\n",
    "    'nikhil' : 12,\n",
    "    'yash' : 456,\n",
    "    'nirav' : 786,\n",
    "    'chirag' : 564,\n",
    "    'ayaan' : 5456,\n",
    "}\n",
    "\n",
    "dict2 = dict(sorted(dict1.items(), key=lambda x:x[1]))\n",
    "dict3 = dict(sorted(dict1.items(), key=lambda x:x[1], reverse=True))\n",
    "\n",
    "print(\"ascending order: \", dict2)\n",
    "print(\"descending order: \", dict3)"
   ]
  },
  {
   "cell_type": "markdown",
   "id": "37ef6357-aba6-4c3c-998c-100ee36d1140",
   "metadata": {},
   "source": [
    "# 33. Write a Python script to concatenate following dictionaries to create a new one."
   ]
  },
  {
   "cell_type": "code",
   "execution_count": 94,
   "id": "d282a3dc-d255-4c97-a8c1-432dbac1cfaf",
   "metadata": {},
   "outputs": [
    {
     "name": "stdout",
     "output_type": "stream",
     "text": [
      "{'A': 1654, 'B': 56489, 'C': 65488, 'D': 58784, 'E': 4898, 'F': 6498}\n"
     ]
    }
   ],
   "source": [
    "dict1 = {'A' : 1654, 'B' : 56489, 'C' : 65488}\n",
    "dict2 = {'D' : 58784, 'E' : 4898, 'F' : 6498}\n",
    "\n",
    "dict1.update(dict2)\n",
    "print(dict1)"
   ]
  },
  {
   "cell_type": "markdown",
   "id": "5f9ead41-db24-4b2a-a3a0-6ebe2492b7fb",
   "metadata": {},
   "source": [
    "# 34. Write a Python script to check if a given key already exists in a dictionary."
   ]
  },
  {
   "cell_type": "code",
   "execution_count": 95,
   "id": "2802bf2a-48fe-41c8-ada1-de6bd26de85e",
   "metadata": {},
   "outputs": [
    {
     "name": "stdout",
     "output_type": "stream",
     "text": [
      "Key exists in the dictionary.\n"
     ]
    }
   ],
   "source": [
    "dict1 = {'jay': 7625, 'kishor': 3101, 'nikhil': 5740, 'Ayush' : 8808}\n",
    "\n",
    "if 'jay' in dict1:\n",
    "    print(\"Key exists in the dictionary.\")\n",
    "else:\n",
    "    print(\"Key does not exist in the dictionary.\")"
   ]
  },
  {
   "cell_type": "code",
   "execution_count": 96,
   "id": "595a7e05-6250-4215-b16e-7409f58bfe99",
   "metadata": {},
   "outputs": [
    {
     "name": "stdout",
     "output_type": "stream",
     "text": [
      "Key exists in the dictionary.\n"
     ]
    }
   ],
   "source": [
    "dict1 = {'jay': 7625, 'kishor': 3101, 'nikhil': 5740, 'Ayush' : 8808}\n",
    "\n",
    "if dict1.get('jay') is not None:\n",
    "    print(\"Key exists in the dictionary.\")\n",
    "else:\n",
    "    print(\"Key does not exist in the dictionary.\")"
   ]
  },
  {
   "cell_type": "markdown",
   "id": "c3c0aee7-8862-4ee9-811a-c33d3df2d3c7",
   "metadata": {},
   "source": [
    "# 35. How Do You Traverse Through A Dictionary Object In Python?"
   ]
  },
  {
   "cell_type": "markdown",
   "id": "8ccac6f0-20e5-40e2-bf3d-f107725224e4",
   "metadata": {},
   "source": [
    "Iterating through a Python dictionary involves looping over its keys and values. The basic method is to use a for loop. For example, for key in dictionary: print(key, dictionary[key]). This will print each key and its corresponding value. However, Python provides more advanced methods, such as items(), keys(), and values(), which offer more control over the iteration process."
   ]
  },
  {
   "cell_type": "code",
   "execution_count": 97,
   "id": "21cd09e5-8099-40d6-b764-f0ec5c5968cc",
   "metadata": {},
   "outputs": [
    {
     "name": "stdout",
     "output_type": "stream",
     "text": [
      "Jay 3101\n",
      "kishor 3101\n",
      "nikhil 5740\n",
      "Ayush 8808\n"
     ]
    }
   ],
   "source": [
    "dict1 = {'Jay': 3101, 'kishor': 3101, 'nikhil': 5740, 'Ayush': 8808}\n",
    "for key in dict1:\n",
    "    print(key, dict1[key])"
   ]
  },
  {
   "cell_type": "markdown",
   "id": "50086758-7fb8-4d2f-98cf-4f01021c6ac6",
   "metadata": {},
   "source": [
    "# 36. How Do You Check The Presence Of A Key In A Dictionary? "
   ]
  },
  {
   "cell_type": "markdown",
   "id": "90f4dbf9-5c47-4571-bcbc-6ff4afbd8bf5",
   "metadata": {},
   "source": [
    "The in keyword is the simplest way to check if a key exists in a dictionary. It returns a boolean value of True if the key is present and False otherwise."
   ]
  },
  {
   "cell_type": "markdown",
   "id": "a9dd43a8-0a85-4f28-8e70-b36c6317eb73",
   "metadata": {},
   "source": [
    "For example, "
   ]
  },
  {
   "cell_type": "code",
   "execution_count": 98,
   "id": "3d331d00-087b-4cc0-b3ea-cc2e90c84db0",
   "metadata": {},
   "outputs": [
    {
     "name": "stdout",
     "output_type": "stream",
     "text": [
      "Yes, 'apple' is the keys in the dictionary.\n"
     ]
    }
   ],
   "source": [
    "dict1 = {'apple': 2, 'banana': 3, 'orange': 4}\n",
    "if 'apple' in dict1:\n",
    "    print(\"Yes, 'apple' is the keys in the dictionary.\")"
   ]
  },
  {
   "cell_type": "code",
   "execution_count": 99,
   "id": "97cc3b2c-0f0b-4ac2-a7d0-87518d3a4cce",
   "metadata": {},
   "outputs": [
    {
     "name": "stdout",
     "output_type": "stream",
     "text": [
      "The value of 'apple' is 2.\n"
     ]
    }
   ],
   "source": [
    "dict1 = {'apple': 2, 'banana': 3, 'orange': 4}\n",
    "a = dict1.get('apple')\n",
    "if a is not None:\n",
    "    print(f\"The value of 'apple' is {a}.\")"
   ]
  },
  {
   "cell_type": "markdown",
   "id": "27f4a8ab-b172-483e-93a2-dc87efea3719",
   "metadata": {},
   "source": [
    "# 37. Write a Python script to print a dictionary where the keys are numbers between 1 and 15."
   ]
  },
  {
   "cell_type": "code",
   "execution_count": 100,
   "id": "bc0c8efe-889b-4fc1-8554-26f94d91644c",
   "metadata": {},
   "outputs": [
    {
     "name": "stdout",
     "output_type": "stream",
     "text": [
      "{1: 1, 2: 4, 3: 9, 4: 16, 5: 25, 6: 36, 7: 49, 8: 64, 9: 81, 10: 100, 11: 121, 12: 144, 13: 169, 14: 196, 15: 225}\n"
     ]
    }
   ],
   "source": [
    "d = dict()\n",
    "\n",
    "for x in range(1, 16):\n",
    "    d[x] = x ** 2\n",
    "\n",
    "print(d)"
   ]
  },
  {
   "cell_type": "markdown",
   "id": "aa0e1192-bdf5-4379-9667-3dc4f7a0959c",
   "metadata": {},
   "source": [
    "# 38. Write a Python program to check multiple keys exists in a dictionary."
   ]
  },
  {
   "cell_type": "code",
   "execution_count": 101,
   "id": "4fc1cb14-bee1-47b1-af1d-665678caeb3f",
   "metadata": {},
   "outputs": [
    {
     "name": "stdout",
     "output_type": "stream",
     "text": [
      "True\n",
      "False\n",
      "True\n"
     ]
    }
   ],
   "source": [
    "student = {\n",
    "  'name': 'jay',\n",
    "  'class': 'engineering',\n",
    "  'roll_id': '20280206030'\n",
    "}\n",
    "print(student.keys() >= {'class', 'name'})\n",
    "print(student.keys() >= {'name', 'Alex'})\n",
    "print(student.keys() >= {'roll_id', 'name'}) "
   ]
  },
  {
   "cell_type": "markdown",
   "id": "40c4ca73-616e-4554-8d71-7bbc4132eb77",
   "metadata": {},
   "source": [
    "# 39. Write a Python script to merge two Python dictionaries."
   ]
  },
  {
   "cell_type": "code",
   "execution_count": 102,
   "id": "b1b3fe03-782b-4391-a148-6b41c58179a3",
   "metadata": {},
   "outputs": [
    {
     "name": "stdout",
     "output_type": "stream",
     "text": [
      "{'A': 100, 'B': 200}\n",
      "{'A': 100, 'B': 200, 'C': 300, 'D': 400, 'E': 500}\n"
     ]
    }
   ],
   "source": [
    "dict1 = {'A' : 100, 'B' : 200}\n",
    "dict2 = {'C' : 300, 'D' : 400, 'E' : 500}\n",
    "\n",
    "d = dict1.copy()\n",
    "print(d)\n",
    "d.update(dict2)\n",
    "\n",
    "print(d)"
   ]
  },
  {
   "cell_type": "markdown",
   "id": "c5a06c7d-7016-4b2c-921d-6d6750b1d7cd",
   "metadata": {},
   "source": [
    "# 40. Write a Python program to map two lists into a dictionary."
   ]
  },
  {
   "cell_type": "code",
   "execution_count": 103,
   "id": "5c056b00-0d2d-43b9-901e-4a493d42c451",
   "metadata": {},
   "outputs": [
    {
     "name": "stdout",
     "output_type": "stream",
     "text": [
      "{'red': '#FF0000', 'green': '#008000', 'blue': '#0000FF'}\n"
     ]
    }
   ],
   "source": [
    "keys = ['red', 'green', 'blue']\n",
    "values = ['#FF0000', '#008000', '#0000FF']\n",
    "\n",
    "map_dict = dict(zip(keys, values))\n",
    "print(map_dict)"
   ]
  },
  {
   "cell_type": "markdown",
   "id": "61c253ad-5d21-4e57-a303-f62ca0374bf3",
   "metadata": {},
   "source": [
    "# 41. Write a Python program to combine two dictionary adding values for common keys.\n",
    "# d1 = {'a': 100, 'b': 200, 'c':300} o d2 = {'a': 300, 'b': 200,’d’:400}\n",
    "# Sample output: Counter ({'a': 400, 'b': 400,’d’: 400, 'c': 300}). "
   ]
  },
  {
   "cell_type": "code",
   "execution_count": 104,
   "id": "a0796459-c9c5-4ab4-b0c2-632dce5f6dcf",
   "metadata": {},
   "outputs": [
    {
     "name": "stdout",
     "output_type": "stream",
     "text": [
      "{'a': 2089, 'b': 14263, 'd': 8754}\n"
     ]
    }
   ],
   "source": [
    "dict1 = {'a' : 544, 'b' : 8765, 'c' : 789}\n",
    "dict2 = {'a' : 1545, 'b' : 5498, 'd' : 8754}\n",
    "\n",
    "for key in dict2:\n",
    "    if key in dict1:\n",
    "        dict2[key] = dict2[key] + dict1[key]\n",
    "    else:\n",
    "        pass\n",
    "\n",
    "print(dict2)"
   ]
  },
  {
   "cell_type": "code",
   "execution_count": 105,
   "id": "33c477bc-9754-49ac-81cb-20c04ef46ab0",
   "metadata": {},
   "outputs": [
    {
     "name": "stdout",
     "output_type": "stream",
     "text": [
      "Counter({'b': 14263, 'd': 8754, 'a': 2089, 'c': 789})\n"
     ]
    }
   ],
   "source": [
    "from collections import Counter\n",
    "\n",
    "dict1 = {'a' : 544, 'b' : 8765, 'c' : 789}\n",
    "dict2 = {'a' : 1545, 'b' : 5498, 'd' : 8754}\n",
    "\n",
    "dict3 = Counter(dict1) + Counter(dict2)\n",
    "print(dict3)"
   ]
  },
  {
   "cell_type": "markdown",
   "id": "c21990b8-a75e-4221-a11a-343f5d271d3d",
   "metadata": {},
   "source": [
    "# 42. Write a Python program to print all unique values in a dictionary. "
   ]
  },
  {
   "cell_type": "code",
   "execution_count": 106,
   "id": "517e032d-6312-481e-a3c7-e3c8e2de1c07",
   "metadata": {},
   "outputs": [
    {
     "name": "stdout",
     "output_type": "stream",
     "text": [
      "Original List:  [{'a': 1500}, {'b': 1600}, {'c': 1500}, {'d': 1700}, {'e': 1800}, {'f': 1600}, {'g': 1900}]\n",
      "Unique Values:  {1600, 1700, 1800, 1900, 1500}\n"
     ]
    }
   ],
   "source": [
    "list1 = [{'a': 1500}, {'b' : 1600}, {'c' : 1500}, {'d' : 1700}, {'e': 1800}, {'f': 1600}, {'g': 1900}]\n",
    "print('Original List: ', list1)\n",
    "\n",
    "unique_value = set(val for dic in list1 for val in dic.values())\n",
    "\n",
    "print('Unique Values: ', unique_value) "
   ]
  },
  {
   "cell_type": "markdown",
   "id": "3ea9c910-a742-4958-a206-6b73295f2d45",
   "metadata": {},
   "source": [
    "# 43. Why Do You Use the Zip () Method in Python? "
   ]
  },
  {
   "cell_type": "markdown",
   "id": "6d6f14c2-81bb-498e-b598-b1a1ebc38b03",
   "metadata": {},
   "source": [
    "The zip() function in Python is used to combine two or more iterable dictionaries into a single iterable, where corresponding elements from the input iterable are paired together as tuples. When using zip() with dictionaries, it pairs the keys and values of the dictionaries based on their position in the dictionary."
   ]
  },
  {
   "cell_type": "code",
   "execution_count": 107,
   "id": "18bc94a8-359b-4279-9e30-9ab6c23b20e5",
   "metadata": {},
   "outputs": [
    {
     "name": "stdout",
     "output_type": "stream",
     "text": [
      "{'GEEKS': 2175, 'For': 1127, 'geeks': 2750}\n"
     ]
    }
   ],
   "source": [
    "stocks = ['GEEKS', 'For', 'geeks']\n",
    "prices = [2175, 1127, 2750]\n",
    " \n",
    "new_dict = {stocks: prices for stocks,\n",
    "            prices in zip(stocks, prices)}\n",
    "print(new_dict)"
   ]
  },
  {
   "cell_type": "markdown",
   "id": "60c0996a-86d0-4c80-a89b-91a87f3a5c41",
   "metadata": {},
   "source": [
    "In Python, the zip() function is used to combine two or more lists (or any other iterables) into a single iterable, where elements from corresponding positions are paired together. The resulting iterable contains tuples, where the first element from each list is paired together, the second element from each list is paired together, and so on."
   ]
  },
  {
   "cell_type": "code",
   "execution_count": 108,
   "id": "bdc212fc-9d1d-4048-8e74-e7c71c3d2376",
   "metadata": {},
   "outputs": [
    {
     "name": "stdout",
     "output_type": "stream",
     "text": [
      "{('Manjeet', 4), ('Shambhavi', 3), ('Nikhil', 1), ('Astha', 2)}\n"
     ]
    }
   ],
   "source": [
    "name = [ \"Manjeet\", \"Nikhil\", \"Shambhavi\", \"Astha\" ]\n",
    "roll_no = [ 4, 1, 3, 2 ]\n",
    " \n",
    "mapped = zip(name, roll_no)\n",
    " \n",
    "print(set(mapped))"
   ]
  },
  {
   "cell_type": "markdown",
   "id": "6e7860c5-e329-410a-973e-036cf418ba3d",
   "metadata": {},
   "source": [
    "# 44. Write a Python program to create and display all combinations of letters, selecting each letter from a different key in a dictionary.\n",
    "# Sample data: {'1': ['a','b'], '2': ['c','d']}\n",
    "# Expected Output:\n",
    "#          ac ad bc bd "
   ]
  },
  {
   "cell_type": "code",
   "execution_count": 109,
   "id": "c0c86aa4-ac81-46d4-87a3-f2df403411cd",
   "metadata": {},
   "outputs": [
    {
     "name": "stdout",
     "output_type": "stream",
     "text": [
      "ac\n",
      "ad\n",
      "bc\n",
      "bd\n"
     ]
    }
   ],
   "source": [
    "import itertools\n",
    "\n",
    "d = {'1': ['a', 'b'], '2': ['c', 'd']}\n",
    "\n",
    "for combo in itertools.product(*[d[k] for k in sorted(d.keys())]):\n",
    "    print(''.join(combo))"
   ]
  },
  {
   "cell_type": "markdown",
   "id": "cd161930-a63c-4515-8eec-a2a3da97e6cc",
   "metadata": {},
   "source": [
    "# 45. Write a Python program to find the highest 3 values in a dictionary."
   ]
  },
  {
   "cell_type": "code",
   "execution_count": 110,
   "id": "98d97182-58e9-4e67-9be7-5d0637ded94b",
   "metadata": {},
   "outputs": [
    {
     "name": "stdout",
     "output_type": "stream",
     "text": [
      "{'ayaan': 5456, 'nirav': 786, 'chirag': 564}\n"
     ]
    }
   ],
   "source": [
    "dict1 = {\n",
    "    'jay': 11,\n",
    "    'nikhil' : 12,\n",
    "    'yash' : 456,\n",
    "    'nirav' : 786,\n",
    "    'chirag' : 564,\n",
    "    'ayaan' : 5456\n",
    "}\n",
    "\n",
    "dict2 = dict(sorted(dict1.items(), key=lambda x:x[1], reverse=True)[:3])\n",
    "print(dict2)"
   ]
  },
  {
   "cell_type": "markdown",
   "id": "11ec3bde-0782-4dfc-8ca6-8cc7386109df",
   "metadata": {},
   "source": [
    "# 46. Write a Python program to combine values in python list of dictionaries.\n",
    "# Sample data: [{'item': 'item1', 'amount': 400}, {'item': 'item2', 'amount': 300}, o {'item': 'item1', 'amount': 750}]\n",
    "# Expected Output:\n",
    "# Counter ({'item1': 1150, 'item2': 300})"
   ]
  },
  {
   "cell_type": "code",
   "execution_count": 111,
   "id": "ee87b456-b611-4f8d-9204-f5b2ad4fb01e",
   "metadata": {},
   "outputs": [
    {
     "name": "stdout",
     "output_type": "stream",
     "text": [
      "Counter({'item1': 1150, 'item2': 300})\n"
     ]
    }
   ],
   "source": [
    "from collections import Counter\n",
    "\n",
    "list1 = [{'item': 'item1', 'amount': 400}, {'item': 'item2', 'amount': 300}, {'item': 'item1', 'amount': 750}]\n",
    "\n",
    "result = Counter()\n",
    "\n",
    "for d in list1:\n",
    "    result[d['item']] += d['amount']\n",
    "print(result) "
   ]
  },
  {
   "cell_type": "markdown",
   "id": "213b90ab-9573-4984-96a3-5854f12c0290",
   "metadata": {},
   "source": [
    "# 47. Write a Python program to create dictionary from a string.\n",
    "# Note: Track the count of the letters from the string.\n",
    "# Sample string: 'w3resource'\n",
    "# Expected output: \n",
    "# {'3':1, 's':1, 'r':2, 'u':1, 'w':1, 'c':1, 'e':2, 'o':1}"
   ]
  },
  {
   "cell_type": "code",
   "execution_count": 112,
   "id": "cca41f3a-ba78-47ed-ba5c-e0c86df18e76",
   "metadata": {},
   "outputs": [
    {
     "name": "stdin",
     "output_type": "stream",
     "text": [
      "Enter a string:  nikhil\n"
     ]
    },
    {
     "name": "stdout",
     "output_type": "stream",
     "text": [
      "{'n': 1, 'i': 2, 'k': 1, 'h': 1, 'l': 1}\n"
     ]
    }
   ],
   "source": [
    "string = input(\"Enter a string: \")\n",
    "\n",
    "dict1 = {}\n",
    "\n",
    "for ch in string:\n",
    "    if ch in dict1:\n",
    "        dict1[ch] += 1\n",
    "    else:\n",
    "        dict1[ch] = 1\n",
    "\n",
    "print(dict1)"
   ]
  },
  {
   "cell_type": "markdown",
   "id": "ed7aae54-9e51-4650-b52b-ab7961b3ae5a",
   "metadata": {},
   "source": [
    "# 48. Write a Python function to calculate the factorial of a number (a nonnegative integer) "
   ]
  },
  {
   "cell_type": "code",
   "execution_count": 113,
   "id": "aad7d240-b0e7-4072-a1c7-4e9ddf2307a5",
   "metadata": {},
   "outputs": [
    {
     "name": "stdin",
     "output_type": "stream",
     "text": [
      "Input a number to compute the factorial:  5\n"
     ]
    },
    {
     "name": "stdout",
     "output_type": "stream",
     "text": [
      "120\n"
     ]
    }
   ],
   "source": [
    "def factorial(n):\n",
    "    if n == 0:\n",
    "        return 1\n",
    "    else:\n",
    "        return n * factorial(n - 1)\n",
    "        \n",
    "n = int(input(\"Input a number to compute the factorial: \"))\n",
    "print(factorial(n))"
   ]
  },
  {
   "cell_type": "markdown",
   "id": "343badef-4ff1-45ed-b2fd-f962c5ca0ebe",
   "metadata": {},
   "source": [
    "# 49. Write a Python function to check whether a number is in a given range."
   ]
  },
  {
   "cell_type": "code",
   "execution_count": 114,
   "id": "5e0790e5-430e-47da-a180-2dd80e37120e",
   "metadata": {},
   "outputs": [
    {
     "name": "stdout",
     "output_type": "stream",
     "text": [
      "5 is in the range\n"
     ]
    }
   ],
   "source": [
    "def test_range(n):\n",
    "\n",
    "    if n in range(3, 9):\n",
    "        print(\"%s is in the range\" % str(n))\n",
    "    else:\n",
    "        print(\"The number is outside the given range.\")\n",
    "\n",
    "test_range(5)"
   ]
  },
  {
   "cell_type": "markdown",
   "id": "8e4da95f-26ba-4cf1-a932-dca796d01505",
   "metadata": {},
   "source": [
    "# 50.  Write a Python function to check whether a number is perfect or not. "
   ]
  },
  {
   "cell_type": "code",
   "execution_count": 116,
   "id": "77780c1e-06e6-4c23-af4e-31ed3f72e962",
   "metadata": {},
   "outputs": [
    {
     "name": "stdin",
     "output_type": "stream",
     "text": [
      "Enter any number:  5\n"
     ]
    },
    {
     "name": "stdout",
     "output_type": "stream",
     "text": [
      "The number is not a Perfect number!\n"
     ]
    }
   ],
   "source": [
    "n = int(input(\"Enter any number: \"))\n",
    "sum1 = 0\n",
    "for i in range(1, n):\n",
    "    if(n % i == 0):\n",
    "        sum1 += i\n",
    "if (sum1 == n):\n",
    "    print(\"The number is a Perfect number!\")\n",
    "else:\n",
    "    print(\"The number is not a Perfect number!\")"
   ]
  },
  {
   "cell_type": "markdown",
   "id": "7ee0f276-81fa-4ee6-9479-ed13adfbc8ee",
   "metadata": {},
   "source": [
    "# 51. Write a Python function that checks whether a passed string is palindrome or not."
   ]
  },
  {
   "cell_type": "code",
   "execution_count": 117,
   "id": "27d639d8-92e8-4274-ba81-57b056dda316",
   "metadata": {},
   "outputs": [
    {
     "name": "stdin",
     "output_type": "stream",
     "text": [
      "Enter the String:  nayan\n"
     ]
    },
    {
     "name": "stdout",
     "output_type": "stream",
     "text": [
      "The string is a palindrome.\n"
     ]
    }
   ],
   "source": [
    "def isPalindrome(string):\n",
    "    if (string == string[::-1]):\n",
    "        return \"The string is a palindrome.\" \n",
    "    else:\n",
    "        return \"The string is not a palindrome.\" \n",
    "\n",
    "string = input(\"Enter the String: \")\n",
    "print(isPalindrome(string))"
   ]
  },
  {
   "cell_type": "markdown",
   "id": "569d9237-9df1-45db-9106-42d0ac143a68",
   "metadata": {},
   "source": [
    "# 52. How Many Basic Types Of Functions Are Available In Python? "
   ]
  },
  {
   "cell_type": "markdown",
   "id": "01e74172-f8c4-44a0-b801-365e1466f405",
   "metadata": {},
   "source": [
    "There are two types of functions are available in python:\n",
    "\n",
    "1) User-Defined Functions - these types of functions are defined by the user to perform any specific task\n",
    "2) Built-in Functions - These are pre-defined functions in python."
   ]
  },
  {
   "cell_type": "markdown",
   "id": "14b149a3-0301-46a5-bbbb-cdb39aa20edc",
   "metadata": {},
   "source": [
    "# 53. How can you pick a random item from a list or tuple? "
   ]
  },
  {
   "cell_type": "markdown",
   "id": "a7f2785d-cb6a-4463-9e8c-3789361ca018",
   "metadata": {},
   "source": [
    "In python many types of function are available those are pick the random item from a list or tuple"
   ]
  },
  {
   "cell_type": "markdown",
   "id": "bc972e70-f8a1-4a12-8e5f-2ce61c0ade97",
   "metadata": {},
   "source": [
    "1) Using random.choice() method\n",
    "2) Using random.randrange() method\n",
    "3) Using random.randint() method\n",
    "4) Using random.random() method\n",
    "5) Using random.sample() method\n",
    "6) Using random.choices() method\n",
    "\n",
    "For Example,"
   ]
  },
  {
   "cell_type": "code",
   "execution_count": 118,
   "id": "2763ec8a-5ba2-4348-bfae-596a2620a861",
   "metadata": {},
   "outputs": [
    {
     "name": "stdout",
     "output_type": "stream",
     "text": [
      "the given input tuple:  (10, 20, 30, 'sjgd', 56)\n",
      "The generated random tuple item:  30\n"
     ]
    }
   ],
   "source": [
    "import random\n",
    "tuple = (10, 20, 30, 'sjgd', 56)\n",
    "print(\"the given input tuple: \", tuple)\n",
    "\n",
    "random_item = random.choice(tuple)\n",
    "print(\"The generated random tuple item: \", random_item)"
   ]
  },
  {
   "cell_type": "code",
   "execution_count": 119,
   "id": "4522e447-6f32-4a78-b43a-b74edc3902c3",
   "metadata": {},
   "outputs": [
    {
     "name": "stdout",
     "output_type": "stream",
     "text": [
      "the given input list:  [11, 56, 48, 46, 156498]\n",
      "The generated random tuple item:  11\n"
     ]
    }
   ],
   "source": [
    "import random\n",
    "list = [11, 56, 48, 46, 156498]\n",
    "print(\"the given input list: \", list)\n",
    "\n",
    "random_item = random.choice(list)\n",
    "print(\"The generated random tuple item: \", random_item)"
   ]
  },
  {
   "cell_type": "markdown",
   "id": "f36635e8-fa58-46c9-b1e8-c1d0611258aa",
   "metadata": {},
   "source": [
    "# 54. How can you pick a random item from a range?"
   ]
  },
  {
   "cell_type": "markdown",
   "id": "69339c99-ecb5-4929-82d8-04680424ac04",
   "metadata": {},
   "source": [
    "we can use random.randrang() method to use pick a random item from a range"
   ]
  },
  {
   "cell_type": "code",
   "execution_count": 120,
   "id": "eaa637ba-90db-42da-af40-eeee8c7002ee",
   "metadata": {},
   "outputs": [
    {
     "name": "stdout",
     "output_type": "stream",
     "text": [
      "27\n"
     ]
    }
   ],
   "source": [
    "import random\n",
    "x = random.randrange(1, 51)\n",
    "print(x)"
   ]
  },
  {
   "cell_type": "markdown",
   "id": "5db2be38-e8b0-4727-a41d-ad872d6903e3",
   "metadata": {},
   "source": [
    "# 55. How can you get a random number in python? "
   ]
  },
  {
   "cell_type": "markdown",
   "id": "8aecef53-399c-41c9-a4e3-9bdfa37d059a",
   "metadata": {},
   "source": [
    "we can use random.random() method to get random float number between 0 and 1\n",
    "and use random.randint() method to get random integer value\n",
    "\n",
    "For example,"
   ]
  },
  {
   "cell_type": "code",
   "execution_count": 121,
   "id": "1978ff6e-69f6-4a3b-91c0-6c0433ea4b28",
   "metadata": {},
   "outputs": [
    {
     "name": "stdout",
     "output_type": "stream",
     "text": [
      "0.860161037286291\n"
     ]
    }
   ],
   "source": [
    "import random\n",
    "x = random.random()\n",
    "print(x)"
   ]
  },
  {
   "cell_type": "code",
   "execution_count": 122,
   "id": "5844e72f-fbd7-47b5-a0f4-436973532a43",
   "metadata": {},
   "outputs": [
    {
     "name": "stdout",
     "output_type": "stream",
     "text": [
      "10\n"
     ]
    }
   ],
   "source": [
    "import random\n",
    "x = random.randint(1, 15)\n",
    "print(x)"
   ]
  },
  {
   "cell_type": "markdown",
   "id": "5797536c-9e08-4cab-9c35-9755339e3ea1",
   "metadata": {},
   "source": [
    "# 56. How will you set the starting value in generating random numbers?"
   ]
  },
  {
   "cell_type": "markdown",
   "id": "43069dc1-da5e-4e5e-8bc1-a6c1fb1b5189",
   "metadata": {},
   "source": [
    "we can use the seed() method to set the starting value in generating random numbers."
   ]
  },
  {
   "cell_type": "markdown",
   "id": "7f6e9704-830e-4c74-8843-60e7bf7fff55",
   "metadata": {},
   "source": [
    "The seed() method is used to initialize the random number generator.\n",
    "\n",
    "The random number generator needs a number to start with (a seed value), to be able to generate a random number.\n",
    "\n",
    "By default the random number generator uses the current system time.\n",
    "\n",
    "Use the seed() method to customize the start number of the random number generator."
   ]
  },
  {
   "cell_type": "code",
   "execution_count": 123,
   "id": "59742479-fef0-44ed-b527-79c515fd502b",
   "metadata": {},
   "outputs": [
    {
     "name": "stdout",
     "output_type": "stream",
     "text": [
      "0.5714025946899135\n"
     ]
    }
   ],
   "source": [
    "import random\n",
    "random.seed(10)\n",
    "print(random.random())"
   ]
  },
  {
   "cell_type": "markdown",
   "id": "a7467be0-48b8-4f01-a2b6-26c4569351cb",
   "metadata": {},
   "source": [
    "# 57. How will you randomizes the items of a list in place? "
   ]
  },
  {
   "cell_type": "markdown",
   "id": "8ae06110-3fe3-4002-b704-367a4114f257",
   "metadata": {},
   "source": [
    "we can use random.shuffle() function to randomizes the items of a list in place.\n",
    "\n",
    "For example,"
   ]
  },
  {
   "cell_type": "code",
   "execution_count": 124,
   "id": "133d4317-7489-4048-9aca-7e6336307133",
   "metadata": {},
   "outputs": [
    {
     "name": "stdout",
     "output_type": "stream",
     "text": [
      "the given list:  [3, 6, 9, 12, 15, 18, 21]\n",
      "randomizes the list:  [9, 6, 18, 3, 15, 21, 12]\n"
     ]
    }
   ],
   "source": [
    "import random\n",
    "list = [3, 6, 9, 12, 15, 18, 21]\n",
    "print(\"the given list: \", list)\n",
    "\n",
    "random.shuffle(list)\n",
    "print(\"randomizes the list: \", list)"
   ]
  },
  {
   "cell_type": "markdown",
   "id": "39820cb2-fff0-4969-9597-1f329d5e0957",
   "metadata": {},
   "source": [
    "# 58. Write a Python program to read a random line from a file. "
   ]
  },
  {
   "cell_type": "code",
   "execution_count": 136,
   "id": "f182f06c-95a5-4c19-b900-02b423bc3554",
   "metadata": {},
   "outputs": [
    {
     "name": "stdout",
     "output_type": "stream",
     "text": [
      "Software engineers use various methodologies, tools, and techniques to manage the complexities of software development projects, including requirements analysis, design, coding, testing, and deployment. \n"
     ]
    }
   ],
   "source": [
    "import random\n",
    "def random_line(fname):\n",
    "    lines = open(fname).read().splitlines()\n",
    "    return random.choice(lines)\n",
    "print(random_line('fname.txt'))"
   ]
  },
  {
   "cell_type": "markdown",
   "id": "5d75ff08-2835-4510-b250-1763a7e47a10",
   "metadata": {},
   "source": [
    "# 59. Write a Python program to convert degree to radian."
   ]
  },
  {
   "cell_type": "code",
   "execution_count": 135,
   "id": "af715781-674d-4369-947d-025f9f75dc20",
   "metadata": {},
   "outputs": [
    {
     "name": "stdin",
     "output_type": "stream",
     "text": [
      "Input degrees:  15\n"
     ]
    },
    {
     "name": "stdout",
     "output_type": "stream",
     "text": [
      "0.2619047619047619\n"
     ]
    }
   ],
   "source": [
    "pi = 22/7\n",
    "degree = float(input(\"Input degrees: \"))\n",
    "radian = degree*(pi/180)\n",
    "print(radian)"
   ]
  },
  {
   "cell_type": "markdown",
   "id": "d33f9adb-d246-415f-a25e-8fd8ffb29653",
   "metadata": {},
   "source": [
    "# 60. Write a Python program to calculate the area of a trapezoid."
   ]
  },
  {
   "cell_type": "code",
   "execution_count": 127,
   "id": "49ae8eab-bcf8-45fc-a87e-e171afb34524",
   "metadata": {},
   "outputs": [
    {
     "name": "stdin",
     "output_type": "stream",
     "text": [
      "Enter the height of trapezoid:  5\n",
      "Enter the base one value:  4\n",
      "Enter the base two value:  15\n"
     ]
    },
    {
     "name": "stdout",
     "output_type": "stream",
     "text": [
      "47.5\n"
     ]
    }
   ],
   "source": [
    "Base1 = 5\n",
    "Base2 = 6\n",
    "height = float(input(\"Enter the height of trapezoid: \"))\n",
    "base1 = float(input(\"Enter the base one value: \"))\n",
    "base2 = float(input(\"Enter the base two value: \"))\n",
    "\n",
    "area = ((base1 + base2)/ 2) * height\n",
    "print(area)"
   ]
  },
  {
   "cell_type": "markdown",
   "id": "388defb0-52cc-4f36-98fb-ab0ae9527076",
   "metadata": {},
   "source": [
    "# 61. Write a Python program to calculate the area of a parallelogram."
   ]
  },
  {
   "cell_type": "code",
   "execution_count": 128,
   "id": "c3c4e8c4-10ea-47cf-9c03-a2c878cab6cd",
   "metadata": {},
   "outputs": [
    {
     "name": "stdin",
     "output_type": "stream",
     "text": [
      "Enter the length of base:  15\n",
      "Enter the Measurement of height:  10\n"
     ]
    },
    {
     "name": "stdout",
     "output_type": "stream",
     "text": [
      "The area of parallellogram is:  150.0\n"
     ]
    }
   ],
   "source": [
    "base1 = float(input(\"Enter the length of base: \"))\n",
    "height = float(input(\"Enter the Measurement of height: \"))\n",
    "area = base1 * height\n",
    "print(\"The area of parallellogram is: \", area)"
   ]
  },
  {
   "cell_type": "markdown",
   "id": "e3a4e642-54e2-4081-a0ed-0d2985b40135",
   "metadata": {},
   "source": [
    "# 62. Write a Python program to calculate surface volume and area of a cylinder."
   ]
  },
  {
   "cell_type": "code",
   "execution_count": 129,
   "id": "dbbb9535-3b70-43c0-bf02-c2db2318e2b1",
   "metadata": {},
   "outputs": [
    {
     "name": "stdin",
     "output_type": "stream",
     "text": [
      "Enter the height of cylinder:  15\n",
      "Enter the radian of cylinder:  10\n"
     ]
    },
    {
     "name": "stdout",
     "output_type": "stream",
     "text": [
      "The cylinder volume is:  4714.285714285714\n",
      "The cylinder surface is:  1571.4285714285713\n"
     ]
    }
   ],
   "source": [
    "pi = 22/7\n",
    "height = float(input(\"Enter the height of cylinder: \"))\n",
    "radian = float(input(\"Enter the radian of cylinder: \"))\n",
    "\n",
    "volume = pi * radian * radian * height\n",
    "surface = ((2 * pi * radian) * height) + ((pi * radian**2) * 2)\n",
    "print(\"The cylinder volume is: \", volume)\n",
    "print(\"The cylinder surface is: \", surface)"
   ]
  },
  {
   "cell_type": "markdown",
   "id": "086e4e2b-4eed-4fef-b995-eb9bc1c3d1b2",
   "metadata": {},
   "source": [
    "# 63. Write a Python program to returns sum of all divisors of a number."
   ]
  },
  {
   "cell_type": "code",
   "execution_count": 130,
   "id": "62cccdc5-c968-408b-a28e-0a93b2756b94",
   "metadata": {},
   "outputs": [
    {
     "name": "stdout",
     "output_type": "stream",
     "text": [
      "4\n",
      "15\n"
     ]
    }
   ],
   "source": [
    "def sum_div(number):\n",
    "    divisors = [1]\n",
    "    for i in range(2, number):\n",
    "        if (number % i) == 0:\n",
    "            divisors.append(i)\n",
    "    return sum(divisors)\n",
    "print(sum_div(9))\n",
    "print(sum_div(16))"
   ]
  },
  {
   "cell_type": "markdown",
   "id": "f6d74bbd-f240-483b-a87d-71558defe18f",
   "metadata": {},
   "source": [
    "# 64. Write a Python program to find the maximum and minimum numbers from the specified decimal numbers. "
   ]
  },
  {
   "cell_type": "code",
   "execution_count": 131,
   "id": "8768505f-0704-41c8-8e88-32efcf102d1e",
   "metadata": {},
   "outputs": [
    {
     "name": "stdout",
     "output_type": "stream",
     "text": [
      "Enter the multiple decimal number separate by comma..\n"
     ]
    },
    {
     "name": "stdin",
     "output_type": "stream",
     "text": [
      " 12, 154, 1544, 1200, 154, 0\n"
     ]
    },
    {
     "name": "stdout",
     "output_type": "stream",
     "text": [
      "Maximum number of decimal:  12\n",
      "Minimum number of decimal:   0\n"
     ]
    }
   ],
   "source": [
    "print(\"Enter the multiple decimal number separate by comma..\")\n",
    "decimal = input(\"\").split(\",\")\n",
    "print(\"Maximum number of decimal: \", max(decimal))\n",
    "print(\"Minimum number of decimal: \", min(decimal))"
   ]
  },
  {
   "cell_type": "code",
   "execution_count": null,
   "id": "3365f512-5889-491c-bc2e-d6980ec193ad",
   "metadata": {},
   "outputs": [],
   "source": []
  }
 ],
 "metadata": {
  "kernelspec": {
   "display_name": "Python 3 (ipykernel)",
   "language": "python",
   "name": "python3"
  },
  "language_info": {
   "codemirror_mode": {
    "name": "ipython",
    "version": 3
   },
   "file_extension": ".py",
   "mimetype": "text/x-python",
   "name": "python",
   "nbconvert_exporter": "python",
   "pygments_lexer": "ipython3",
   "version": "3.11.7"
  }
 },
 "nbformat": 4,
 "nbformat_minor": 5
}
