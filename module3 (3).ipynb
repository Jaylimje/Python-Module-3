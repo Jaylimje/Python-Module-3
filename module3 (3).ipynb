{
 "cells": [
  {
   "cell_type": "markdown",
   "id": "fde6f1a3-cb98-4bb3-8b15-c7f6ad816914",
   "metadata": {},
   "source": [
    "# 29. Write a Python program to unzip a list of tuples into individual lists."
   ]
  },
  {
   "cell_type": "code",
   "execution_count": 2,
   "id": "2b6ce30b-3bc6-448b-89a3-bd9045851d81",
   "metadata": {},
   "outputs": [
    {
     "name": "stdout",
     "output_type": "stream",
     "text": [
      "[]\n",
      "[1, 2]\n",
      "[1]\n",
      "[]\n"
     ]
    }
   ],
   "source": [
    "list1 = [(), (1, 2), (1,), ()]\n",
    "\n",
    "for i in list1:\n",
    "    print(list(i))"
   ]
  },
  {
   "cell_type": "code",
   "execution_count": null,
   "id": "8bc7dd05-0d28-4511-8962-f222f041df05",
   "metadata": {},
   "outputs": [],
   "source": []
  }
 ],
 "metadata": {
  "kernelspec": {
   "display_name": "Python 3 (ipykernel)",
   "language": "python",
   "name": "python3"
  },
  "language_info": {
   "codemirror_mode": {
    "name": "ipython",
    "version": 3
   },
   "file_extension": ".py",
   "mimetype": "text/x-python",
   "name": "python",
   "nbconvert_exporter": "python",
   "pygments_lexer": "ipython3",
   "version": "3.11.7"
  }
 },
 "nbformat": 4,
 "nbformat_minor": 5
}
