{
 "cells": [
  {
   "cell_type": "markdown",
   "id": "f3cace0b-3bbb-4a7f-90ba-1ec6a66f813d",
   "metadata": {},
   "source": [
    "# 1. What is List? How will you reverse a list?"
   ]
  },
  {
   "cell_type": "markdown",
   "id": "0593ee9a-c19a-47d8-af08-093cd7dfce12",
   "metadata": {},
   "source": [
    "A list is a data structure in python that is mutable, changeable and ordered in a sequence.\n",
    "List is create using list() keyword or enter a value in [](square brackets).\n",
    "A list is ordered sequence so, indexing are allow.\n",
    "Each elements or value that is inside of a list is called an items."
   ]
  },
  {
   "cell_type": "markdown",
   "id": "0d87180a-bd01-4ec2-a314-bd7eed9570d4",
   "metadata": {},
   "source": [
    "Python is provides a built-in function called as the reverse() function which reverses the order of the data elements in place.\n",
    "\n",
    "for example"
   ]
  },
  {
   "cell_type": "code",
   "execution_count": 1,
   "id": "6df45e4f-9a0f-49fa-819c-1624a782302a",
   "metadata": {},
   "outputs": [
    {
     "name": "stdout",
     "output_type": "stream",
     "text": [
      "['ayush', 'dhruval', 'keval', 'manav']\n"
     ]
    }
   ],
   "source": [
    "name = ['ayush', 'dhruval', 'keval', 'manav']\n",
    "print(name)"
   ]
  },
  {
   "cell_type": "code",
   "execution_count": 2,
   "id": "aae90698-db4c-49a8-821d-95f69e0af23e",
   "metadata": {},
   "outputs": [
    {
     "name": "stdout",
     "output_type": "stream",
     "text": [
      "['manav', 'keval', 'dhruval', 'ayush']\n"
     ]
    }
   ],
   "source": [
    "name.reverse()\n",
    "print(name)"
   ]
  },
  {
   "cell_type": "markdown",
   "id": "a0dc4f93-79fb-43c3-bb3a-cd50703d8f5c",
   "metadata": {},
   "source": [
    "# 2. How will you remove last object from a list?\n",
    "# Suppose list1 is [2, 33, 222, 14, and 25], what is list1 [-1]?"
   ]
  },
  {
   "cell_type": "markdown",
   "id": "1588c9a2-462e-4fb6-88db-c6bd9f589bf8",
   "metadata": {},
   "source": [
    "The method pop() can be used to remove and return the last value from the list or the given index value. if the index is not given, then the last element is remove from the list."
   ]
  },
  {
   "cell_type": "code",
   "execution_count": 3,
   "id": "c23f64aa-f6f8-4931-963d-5858c5e0987d",
   "metadata": {},
   "outputs": [
    {
     "data": {
      "text/plain": [
       "25"
      ]
     },
     "execution_count": 3,
     "metadata": {},
     "output_type": "execute_result"
    }
   ],
   "source": [
    "list1 = [2, 33, 222, 14, 25]\n",
    "list1[-1]"
   ]
  },
  {
   "cell_type": "markdown",
   "id": "c1db7b48-b243-4a94-a585-2d3e8a1e5337",
   "metadata": {},
   "source": [
    "# 3. Differentiate between append () and extend () methods? "
   ]
  },
  {
   "cell_type": "markdown",
   "id": "5b00f55b-3f05-46b3-b8f1-e1f4acfb1a26",
   "metadata": {},
   "source": [
    "append() :- to addd a single entry to the end of list. the append() function add the full input to the list as a single element. append() method accepts only one input element."
   ]
  },
  {
   "cell_type": "markdown",
   "id": "facdc04a-0fe3-4bea-94b6-9f73f7da4969",
   "metadata": {},
   "source": [
    "extend() :- To add additional elements or an iterable to the end of a list. extend() add each element to the list independently. accepts as input an iterable."
   ]
  },
  {
   "cell_type": "markdown",
   "id": "f60c70e6-8676-42f0-a1f9-586f485daac5",
   "metadata": {},
   "source": [
    "# 4. Write a Python function to get the largest number, smallest num and sum of all from a list. "
   ]
  },
  {
   "cell_type": "code",
   "execution_count": 4,
   "id": "789b9ebe-1031-42f6-80c4-e0c8b3d2ef53",
   "metadata": {},
   "outputs": [
    {
     "name": "stdout",
     "output_type": "stream",
     "text": [
      "largest number of a list:  64\n"
     ]
    }
   ],
   "source": [
    "list1 = [10, 22, 46, 34, 64, 56]\n",
    "print(\"largest number of a list: \", max(list1))"
   ]
  },
  {
   "cell_type": "code",
   "execution_count": 5,
   "id": "a8f5c1d3-456a-4885-8ccb-89d747359d35",
   "metadata": {},
   "outputs": [
    {
     "name": "stdout",
     "output_type": "stream",
     "text": [
      "smallest number of a list:  10\n"
     ]
    }
   ],
   "source": [
    "print(\"smallest number of a list: \", min(list1))"
   ]
  },
  {
   "cell_type": "code",
   "execution_count": 6,
   "id": "185541d3-32fe-4315-a337-07211b479d30",
   "metadata": {},
   "outputs": [
    {
     "name": "stdout",
     "output_type": "stream",
     "text": [
      "sum of all number in a list:  232\n"
     ]
    }
   ],
   "source": [
    "print(\"sum of all number in a list: \", sum(list1)) "
   ]
  },
  {
   "cell_type": "markdown",
   "id": "7645d30c-a582-4abc-a812-25e933fbadb5",
   "metadata": {},
   "source": [
    "# 5. How will you compare two lists?"
   ]
  },
  {
   "cell_type": "markdown",
   "id": "9ba2e393-ea3f-4d0b-875d-39e0afc830cd",
   "metadata": {},
   "source": [
    "The sort() and sorted() method are comparing the two lists. the sort() method sorts the list in place, while sorted() method returns a new list. \n"
   ]
  },
  {
   "cell_type": "markdown",
   "id": "8e7ee0f1-6833-4520-b481-9bdbe990845e",
   "metadata": {},
   "source": [
    "After sorting, lists that are equal will have same items in the same index positions. The == operator compares the lists, item by item. \n",
    "\n",
    "for example,"
   ]
  },
  {
   "cell_type": "code",
   "execution_count": 7,
   "id": "c362a787-88ca-4d80-b718-f09fdf3b28f9",
   "metadata": {},
   "outputs": [
    {
     "name": "stdout",
     "output_type": "stream",
     "text": [
      "the list1 and list2 are not the same.\n",
      "the list1 and list3 are the same.\n"
     ]
    }
   ],
   "source": [
    "list1 = [10, 20, 30, 40, 50]\n",
    "list2 = [20, 40, 50, 70, 60]\n",
    "list3 = [50, 10, 30, 40, 20]\n",
    "\n",
    "list1.sort()\n",
    "list2.sort()\n",
    "list3.sort()\n",
    "\n",
    "if list1 == list2:\n",
    "    print(\"the list1 and list2 are the same.\")\n",
    "else:\n",
    "    print(\"the list1 and list2 are not the same.\")\n",
    "\n",
    "if list1 == list3:\n",
    "    print(\"the list1 and list3 are the same.\")\n",
    "else:\n",
    "    print(\"the list1 and list3 are not the same.\")"
   ]
  },
  {
   "cell_type": "code",
   "execution_count": 8,
   "id": "4f66fc0d-e264-4c1a-8ba5-e2c381598eb8",
   "metadata": {},
   "outputs": [
    {
     "name": "stdout",
     "output_type": "stream",
     "text": [
      "the list1 and list2 are not the same.\n",
      "the list1 and list3 are the same.\n"
     ]
    }
   ],
   "source": [
    "list1 = [10, 20, 30, 40, 50]\n",
    "list2 = [20, 40, 50, 70, 60]\n",
    "list3 = [50, 10, 30, 40, 20]\n",
    "\n",
    "list_1 = sorted(list1)\n",
    "list_2 = sorted(list2)\n",
    "list_3 = sorted(list3)\n",
    "\n",
    "if list_1 == list_2:\n",
    "    print(\"the list1 and list2 are the same.\")\n",
    "else:\n",
    "    print(\"the list1 and list2 are not the same.\")\n",
    "\n",
    "if list_1 == list_3:\n",
    "    print(\"the list1 and list3 are the same.\")\n",
    "else:\n",
    "    print(\"the list1 and list3 are not the same.\")"
   ]
  },
  {
   "cell_type": "markdown",
   "id": "9387ae3f-61b5-4e62-9fdc-baf4038f8f0d",
   "metadata": {},
   "source": [
    "# 6. Write a Python program to count the number of strings where the string length is 2 or more and the first and last character are same from a given list of strings."
   ]
  },
  {
   "cell_type": "code",
   "execution_count": 9,
   "id": "79ae4162-da55-4222-80b7-9f370cc35451",
   "metadata": {},
   "outputs": [
    {
     "name": "stdout",
     "output_type": "stream",
     "text": [
      "the given words are:  aba\n",
      "the given words are:  121\n",
      "no. of words in string:  2\n"
     ]
    }
   ],
   "source": [
    "string1 = 0\n",
    "list1 = ['aba', '121', 'abc', 'xyz', 'kgf']\n",
    "\n",
    "for x in list1:\n",
    "    if len(x) > 1 and x[0]==x[-1]:\n",
    "        print(\"the given words are: \", x)\n",
    "        string1+=1\n",
    "print(\"no. of words in string: \",string1)"
   ]
  },
  {
   "cell_type": "markdown",
   "id": "bee8c93a-3b71-45c4-9383-2652cddeef43",
   "metadata": {},
   "source": [
    "# 7. Write a Python program to remove duplicates from a list."
   ]
  },
  {
   "cell_type": "code",
   "execution_count": 10,
   "id": "1fa3bc85-66bd-4226-a74b-027bb3b04a0b",
   "metadata": {},
   "outputs": [
    {
     "name": "stdout",
     "output_type": "stream",
     "text": [
      "[10, 20, 30, 50, 70]\n"
     ]
    }
   ],
   "source": [
    "def duplicate(list1):\n",
    "    final_list = []\n",
    "    for num in list1:\n",
    "        if num not in final_list:\n",
    "            final_list.append(num)\n",
    "    return final_list\n",
    "\n",
    "list1 = [10, 20, 30, 10, 50, 70, 30]\n",
    "print(duplicate(list1))"
   ]
  },
  {
   "cell_type": "code",
   "execution_count": 11,
   "id": "0a618cb3-9e09-4786-bbdd-60f9f5b1fee8",
   "metadata": {},
   "outputs": [
    {
     "name": "stdout",
     "output_type": "stream",
     "text": [
      "[70, 10, 50, 20, 30]\n"
     ]
    }
   ],
   "source": [
    "list1 = [10, 20, 30, 10, 50, 70, 30]\n",
    "list2 = set(list1)\n",
    "list3 = list(list2)\n",
    "print(list3)"
   ]
  },
  {
   "cell_type": "markdown",
   "id": "8d819599-f9ab-4bc9-affb-7e865a4bdc3e",
   "metadata": {},
   "source": [
    "# 8. Write a Python program to check a list is empty or not. "
   ]
  },
  {
   "cell_type": "code",
   "execution_count": 12,
   "id": "d57bf785-4de2-4551-86d0-29d1e554ea52",
   "metadata": {},
   "outputs": [
    {
     "name": "stdout",
     "output_type": "stream",
     "text": [
      "the list is empty\n"
     ]
    }
   ],
   "source": [
    "list1 = []\n",
    "if len(list1) > 0:\n",
    "    print(\"the list is not empty\")\n",
    "else:\n",
    "    print(\"the list is empty\")"
   ]
  },
  {
   "cell_type": "markdown",
   "id": "90da861a-0d7d-4450-905c-b5a69f2595a6",
   "metadata": {},
   "source": [
    "# 9.  Write a Python function that takes two lists and returns true if they have at least one common member."
   ]
  },
  {
   "cell_type": "code",
   "execution_count": 13,
   "id": "0b753f6a-dc60-42ee-9b6f-8ce79a2566c0",
   "metadata": {},
   "outputs": [
    {
     "name": "stdout",
     "output_type": "stream",
     "text": [
      "True\n",
      "None\n"
     ]
    }
   ],
   "source": [
    "def common_member(list1, list2):\n",
    "    result = False\n",
    "\n",
    "    for x in list1:\n",
    "        for y in list2:\n",
    "            if x == y:\n",
    "                result = True\n",
    "                return result\n",
    "\n",
    "print(common_member([1, 2, 3, 4, 5],[5, 6, 7, 8, 9]))\n",
    "print(common_member([1, 2, 3, 4, 5],[6, 7, 8, 9, 10]))"
   ]
  },
  {
   "cell_type": "markdown",
   "id": "72d2cf25-39c3-4e92-bda5-7243d415c277",
   "metadata": {},
   "source": [
    "# 10. Write a Python program to generate and print a list of first and last 5 element where the values are square of numbers between 1 and 30."
   ]
  },
  {
   "cell_type": "code",
   "execution_count": 14,
   "id": "200d6678-c2b4-41a8-93c1-4223bbd5effc",
   "metadata": {},
   "outputs": [
    {
     "name": "stdout",
     "output_type": "stream",
     "text": [
      "[1, 4, 9, 16, 25]\n",
      "[676, 729, 784, 841, 900]\n"
     ]
    }
   ],
   "source": [
    "def square():\n",
    "\n",
    "    l = list()\n",
    "    for i in range(1, 31):\n",
    "        l.append(i**2)\n",
    "    print(l[:5])\n",
    "    print(l[-5:])\n",
    "\n",
    "square()"
   ]
  },
  {
   "cell_type": "markdown",
   "id": "9195966d-487d-4d18-a704-544d1978c127",
   "metadata": {},
   "source": [
    "# 11. Write a Python function that takes a list and returns a new list with unique elements of the first list. "
   ]
  },
  {
   "cell_type": "code",
   "execution_count": 15,
   "id": "db185d08-f836-413f-8637-be31c7d5bd23",
   "metadata": {},
   "outputs": [
    {
     "name": "stdout",
     "output_type": "stream",
     "text": [
      "[1, 2, 3, 4, 5, 6]\n"
     ]
    }
   ],
   "source": [
    "def unique(list1):\n",
    "    list2 = []\n",
    "\n",
    "    for num in list1:\n",
    "        if num not in list2:\n",
    "            list2.append(num)\n",
    "\n",
    "    return list2\n",
    "\n",
    "print(unique([1, 2, 3, 3, 4, 5, 4, 6, 5]))"
   ]
  },
  {
   "cell_type": "markdown",
   "id": "eead04d4-e6be-4ba2-bf43-716fae954db8",
   "metadata": {},
   "source": [
    "# 12. Write a Python program to convert a list of characters into a string. "
   ]
  },
  {
   "cell_type": "code",
   "execution_count": 16,
   "id": "fb5afcb6-f797-4d64-b138-d4945c49eba9",
   "metadata": {},
   "outputs": [
    {
     "name": "stdout",
     "output_type": "stream",
     "text": [
      "Nikhil\n"
     ]
    }
   ],
   "source": [
    "list1 = ['N', 'i', 'k', 'h', 'i', 'l']\n",
    "str1 = ''.join(list1)\n",
    "print(str1)"
   ]
  },
  {
   "cell_type": "markdown",
   "id": "bbd1e994-63a7-4941-9a0b-cfd99fc8a9ab",
   "metadata": {},
   "source": [
    "# 13. Write a Python program to select an item randomly from a list. "
   ]
  },
  {
   "cell_type": "code",
   "execution_count": 17,
   "id": "2966f57d-b230-4ab2-88ef-042dc149f4c1",
   "metadata": {},
   "outputs": [
    {
     "name": "stdout",
     "output_type": "stream",
     "text": [
      "Black\n"
     ]
    }
   ],
   "source": [
    "import random\n",
    "list1 = ['red', 'white', 'Green', 'Black', 'Blue']\n",
    "print(random.choice(list1))"
   ]
  },
  {
   "cell_type": "markdown",
   "id": "a4281a3f-61c8-4072-9f0e-77d04a968436",
   "metadata": {},
   "source": [
    "# 14. Write a Python program to find the second smallest number in a list."
   ]
  },
  {
   "cell_type": "code",
   "execution_count": 18,
   "id": "5b02cab2-2d1e-49d7-b8ac-de25e49f2ad5",
   "metadata": {},
   "outputs": [
    {
     "name": "stdout",
     "output_type": "stream",
     "text": [
      "second smallest number in list:  55\n"
     ]
    }
   ],
   "source": [
    "def smallest(list1):\n",
    "    length = len(list1)\n",
    "    list1.sort()\n",
    "    print(\"second smallest number in list: \", list1[length-2])\n",
    "list1 = [10, 20, 30, 45, 55, 65]\n",
    "smallest(list1)"
   ]
  },
  {
   "cell_type": "markdown",
   "id": "55fbdc13-c55b-44af-87ad-48ffd29795e0",
   "metadata": {},
   "source": [
    "# 15. Write a Python program to get unique values from a list"
   ]
  },
  {
   "cell_type": "code",
   "execution_count": 19,
   "id": "17069077-27ad-472b-9ab6-1c5a20fef330",
   "metadata": {},
   "outputs": [
    {
     "name": "stdout",
     "output_type": "stream",
     "text": [
      "[10, 20, 50, 60]\n"
     ]
    }
   ],
   "source": [
    "list1 = [10, 20, 50, 20, 10, 60]\n",
    "print(list(set(list1)))"
   ]
  },
  {
   "cell_type": "markdown",
   "id": "e6fd11e8-e2c2-4c0d-91ee-bab86b91dd27",
   "metadata": {},
   "source": [
    "# 16. Write a Python program to check whether a list contains a sub list "
   ]
  },
  {
   "cell_type": "code",
   "execution_count": 20,
   "id": "e74b6aec-2214-487d-9037-8e6124b134ad",
   "metadata": {},
   "outputs": [
    {
     "name": "stdout",
     "output_type": "stream",
     "text": [
      "Sublist is present in list\n"
     ]
    }
   ],
   "source": [
    "list1 = ['a', 'x', [1, 2, 3, 4, 'nikhil']]\n",
    "\n",
    "for i in list1:\n",
    "    if len(i) > 1:\n",
    "        print(\"Sublist is present in list\")\n",
    "        break\n",
    "\n",
    "else:\n",
    "    print(\"Sublist is not present\")"
   ]
  },
  {
   "cell_type": "markdown",
   "id": "15a3714d-a375-4ce8-99c8-47e896014500",
   "metadata": {},
   "source": [
    "# 17. Write a Python program to split a list into different variables."
   ]
  },
  {
   "cell_type": "code",
   "execution_count": 21,
   "id": "95c4f1b4-fdf9-45a5-8f51-1332d7f9fe68",
   "metadata": {},
   "outputs": [
    {
     "name": "stdout",
     "output_type": "stream",
     "text": [
      "names:  ['AUDI', 'BMW', 'HYUNDAI']\n",
      "var a: AUDI\n",
      "var b: BMW\n",
      "var c: HYUNDAI\n"
     ]
    }
   ],
   "source": [
    "names = ['AUDI', 'BMW', 'HYUNDAI']\n",
    "print(\"names: \", names)\n",
    "\n",
    "a, b, c = names\n",
    "\n",
    "print(\"var a:\", a)\n",
    "print(\"var b:\", b)\n",
    "print(\"var c:\", c)"
   ]
  },
  {
   "cell_type": "markdown",
   "id": "6c34f62f-05c4-4501-acb1-3e90259d7c57",
   "metadata": {},
   "source": [
    "# 18. What is tuple? Difference between list and tuple. "
   ]
  },
  {
   "cell_type": "markdown",
   "id": "fd522728-c380-4578-b8b2-4bd41d9536b3",
   "metadata": {},
   "source": [
    "Tuples are used to store multiple items in a single variable.Tuple items are ordered, unchangeable, and allow duplicate values. it means that the items have a defined order, and that order will not change. Tuples are unchangeable, meaning that we cannot change, add or remove items after the tuple has been created.\n",
    "\n",
    "tuple can create using tuple() keyword or create using ()(round brackets)."
   ]
  },
  {
   "cell_type": "markdown",
   "id": "26fabf84-dd3b-4985-8f61-c1e06ffdc0fd",
   "metadata": {},
   "source": [
    "Python tuples are a type of data structure that is very similar to lists. The main difference between the tuples are immutable, meaning they cannot be changed once they are created and list is mutable, meaning they can be changed. list consumes more memory and tuple consumes less memory as compared to the list."
   ]
  },
  {
   "cell_type": "markdown",
   "id": "4d07dea3-ec0f-4b3a-84df-5c68518f8287",
   "metadata": {},
   "source": [
    "# 19. Write a Python program to create a tuple with different data types. "
   ]
  },
  {
   "cell_type": "code",
   "execution_count": 22,
   "id": "ff4e0550-16bc-4602-a732-1c25e423e476",
   "metadata": {},
   "outputs": [
    {
     "name": "stdout",
     "output_type": "stream",
     "text": [
      "('xyz', False, 3.2, 15)\n"
     ]
    }
   ],
   "source": [
    "tuple1 = ('xyz', False, 3.2, 15)\n",
    "print(tuple1)"
   ]
  },
  {
   "cell_type": "code",
   "execution_count": 23,
   "id": "8b8c135e-2a3e-4bb0-9159-b16b56df8a8c",
   "metadata": {},
   "outputs": [
    {
     "name": "stdout",
     "output_type": "stream",
     "text": [
      "('xyz', False, 3.2, 15)\n"
     ]
    }
   ],
   "source": [
    "x = tuple(('xyz', False, 3.2, 15))\n",
    "print(x)"
   ]
  },
  {
   "cell_type": "markdown",
   "id": "85731e93-af32-4b64-b91c-670a2e1d54b8",
   "metadata": {},
   "source": [
    "# 20. Write a Python program to create a tuple with numbers. "
   ]
  },
  {
   "cell_type": "code",
   "execution_count": 24,
   "id": "3edabeb7-3a09-43aa-8312-82e14fd93d17",
   "metadata": {},
   "outputs": [
    {
     "name": "stdout",
     "output_type": "stream",
     "text": [
      "(5, 10, 15, 20, 25)\n"
     ]
    },
    {
     "data": {
      "text/plain": [
       "tuple"
      ]
     },
     "execution_count": 24,
     "metadata": {},
     "output_type": "execute_result"
    }
   ],
   "source": [
    "x = 5, 10, 15, 20, 25\n",
    "print(x)\n",
    "type(x)"
   ]
  },
  {
   "cell_type": "code",
   "execution_count": 25,
   "id": "4082b8f4-f6a8-4165-9adb-a60bdc744e84",
   "metadata": {},
   "outputs": [
    {
     "name": "stdout",
     "output_type": "stream",
     "text": [
      "(5,)\n"
     ]
    },
    {
     "data": {
      "text/plain": [
       "tuple"
      ]
     },
     "execution_count": 25,
     "metadata": {},
     "output_type": "execute_result"
    }
   ],
   "source": [
    "x = 5,\n",
    "print(x)\n",
    "type(x)"
   ]
  },
  {
   "cell_type": "markdown",
   "id": "14ef66cb-03af-4bfc-9155-0e588c402db1",
   "metadata": {},
   "source": [
    "# 21. Write a Python program to convert a tuple to a string"
   ]
  },
  {
   "cell_type": "code",
   "execution_count": 26,
   "id": "b788741d-5c5f-4ca0-acb2-72e4dc2a8dd8",
   "metadata": {},
   "outputs": [
    {
     "name": "stdout",
     "output_type": "stream",
     "text": [
      "HELLO\n"
     ]
    }
   ],
   "source": [
    "def convertTuple(tuple1):\n",
    "    str = ''\n",
    "    for item in tuple1:\n",
    "        str += item\n",
    "    return str\n",
    "\n",
    "tuple1 = ('H', 'E', 'L', 'L', 'O')\n",
    "print(convertTuple(tuple1))"
   ]
  },
  {
   "cell_type": "markdown",
   "id": "c62ca5a6-f8ff-4dd2-a91f-a76dcc571654",
   "metadata": {},
   "source": [
    "# 22. Write a Python program to check whether an element exists within a tuple."
   ]
  },
  {
   "cell_type": "code",
   "execution_count": 27,
   "id": "dc60108b-5967-4911-a53d-bd6c356b5d27",
   "metadata": {},
   "outputs": [
    {
     "name": "stdout",
     "output_type": "stream",
     "text": [
      "True\n",
      "False\n"
     ]
    }
   ],
   "source": [
    "tuple = ('h', 'i', 'i', 'a', 'm', 'j', 'a', 'y')\n",
    "print('j' in tuple)\n",
    "print('o' in tuple)"
   ]
  },
  {
   "cell_type": "markdown",
   "id": "67eed4c0-787e-49b9-a49b-c32c60349c9a",
   "metadata": {},
   "source": [
    "# 23.  Write a Python program to find the length of a tuple."
   ]
  },
  {
   "cell_type": "code",
   "execution_count": 28,
   "id": "f6c0553d-23b7-4949-bfd0-02bea1315d0d",
   "metadata": {},
   "outputs": [
    {
     "name": "stdout",
     "output_type": "stream",
     "text": [
      "('h', 'i', 'i', 'a', 'm', 'j', 'a', 'y')\n",
      "8\n"
     ]
    }
   ],
   "source": [
    "tuple = ('h', 'i', 'i', 'a', 'm', 'j', 'a', 'y')\n",
    "print(tuple)\n",
    "print(len(tuple))"
   ]
  }
 ],
 "metadata": {
  "kernelspec": {
   "display_name": "Python 3 (ipykernel)",
   "language": "python",
   "name": "python3"
  },
  "language_info": {
   "codemirror_mode": {
    "name": "ipython",
    "version": 3
   },
   "file_extension": ".py",
   "mimetype": "text/x-python",
   "name": "python",
   "nbconvert_exporter": "python",
   "pygments_lexer": "ipython3",
   "version": "3.11.7"
  }
 },
 "nbformat": 4,
 "nbformat_minor": 5
}
